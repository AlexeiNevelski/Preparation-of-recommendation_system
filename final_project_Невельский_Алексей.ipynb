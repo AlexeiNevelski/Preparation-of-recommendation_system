{
 "cells": [
  {
   "cell_type": "markdown",
   "metadata": {},
   "source": [
    "# Цель\n",
    "\n",
    "Подготовить основу рекомендательной системы курсов в онлайн-школе MasterMind.\n",
    "\n",
    "# Задачи\n",
    "\n",
    "1. Познакомиться с датасетом, подготовить и проанализировать данные с помощью SQL.\n",
    "2. Обработать данные средствами Python.\n",
    "3. Составить итоговую таблицу с рекомендациями, снабдив её необходимыми комментариями, и представить отчёт продакт-менеджеру.\n",
    "4. Проанализировать результаты A/B-теста, проведённого после внедрения фичи, и сделать вывод."
   ]
  },
  {
   "cell_type": "markdown",
   "metadata": {},
   "source": [
    "# Задача 1. Знакомство с данными\n",
    "\n",
    "У нас в распоряжении две таблицы в Metabase:\n",
    "\n",
    "- **carts** с данными о пользовательских корзинах (дате создания, статусе, id пользователя-владельца и т. д.);\n",
    "- **cart items** с данными о курсах, которые пользователи добавили в корзину.\n",
    "\n",
    "Сначала проведем небольшой первичный анализ данных в Metabase с помощью SQL. По его итогам мы выяснили, что:\n",
    "\n",
    "- у нас есть данные о продажах за 2017-2018 гг.;\n",
    "- всего есть 127 различных курсов (но приобретены были 126);\n",
    "- курсы приобрели 49 006 клиентов;\n",
    "- в среднем один клиент покупал 1.44 курса;\n",
    "- 12 656 клиентов купили больше одного курса.\n",
    "\n",
    "Теперь напишем SQL-запрос, в результате которого получим таблицу с двумя столбцами. В первом столбце будут находиться id пользователей, купивших более одного курса, а во втором столбце - id купленных ими курсов. На этот раз сделаем это уже в Python.\n"
   ]
  },
  {
   "cell_type": "code",
   "execution_count": 1,
   "metadata": {},
   "outputs": [],
   "source": [
    "import numpy as np\n",
    "import pandas as pd\n",
    "import psycopg2\n",
    "import psycopg2.extras\n",
    "\n",
    "# Напишем функцию, которая обращается к базе данных с SQL-запросом и возвращает результат запроса.\n",
    "def getData():\n",
    "    query = \"WITH course_purchases AS (\\\n",
    "        SELECT ci.id, c.user_id, ci.cart_id, ci.created_at, ci.resource_id, c.promo_code_id, c.purchased_at, c.updated_at\\\n",
    "        FROM final.carts c\\\n",
    "            JOIN final.cart_items ci ON c.id = ci.cart_id\\\n",
    "        WHERE c.state = 'successful' AND ci.resource_type = 'Course'\\\n",
    "         ),\\\n",
    "        users_with_many_courses AS (\\\n",
    "        SELECT user_id, Count(DISTINCT resource_id) courses_count\\\n",
    "        FROM course_purchases\\\n",
    "        GROUP BY 1\\\n",
    "        HAVING Count(DISTINCT resource_id) > 1\\\n",
    "        )\\\n",
    "        SELECT DISTINCT user_id, resource_id\\\n",
    "        FROM course_purchases\\\n",
    "        WHERE user_id IN (SELECT user_id FROM users_with_many_courses)\".format()\n",
    "    conn = psycopg2.connect(dbname='skillfactory',\n",
    "                            user='skillfactory',\n",
    "                            host='84.201.134.129',\n",
    "                            password='cCkxxLVrDE8EbvjueeMedPKt',\n",
    "                            port=5432)\n",
    "    dict_cur = conn.cursor(cursor_factory=psycopg2.extras.DictCursor)\n",
    "    dict_cur.execute(query)\n",
    "    rows = dict_cur.fetchall()\n",
    "    data = []\n",
    "    for row in rows:\n",
    "        data.append(dict(row))\n",
    "    dict_cur.close()\n",
    "    conn.close()\n",
    "    return data\n",
    "\n",
    "# Преобразуем результат запроса в датафрейм.\n",
    "df=pd.DataFrame(getData())"
   ]
  },
  {
   "cell_type": "code",
   "execution_count": 2,
   "metadata": {},
   "outputs": [
    {
     "data": {
      "text/html": [
       "<div>\n",
       "<style scoped>\n",
       "    .dataframe tbody tr th:only-of-type {\n",
       "        vertical-align: middle;\n",
       "    }\n",
       "\n",
       "    .dataframe tbody tr th {\n",
       "        vertical-align: top;\n",
       "    }\n",
       "\n",
       "    .dataframe thead th {\n",
       "        text-align: right;\n",
       "    }\n",
       "</style>\n",
       "<table border=\"1\" class=\"dataframe\">\n",
       "  <thead>\n",
       "    <tr style=\"text-align: right;\">\n",
       "      <th></th>\n",
       "      <th>user_id</th>\n",
       "      <th>resource_id</th>\n",
       "    </tr>\n",
       "  </thead>\n",
       "  <tbody>\n",
       "    <tr>\n",
       "      <th>0</th>\n",
       "      <td>51</td>\n",
       "      <td>516</td>\n",
       "    </tr>\n",
       "    <tr>\n",
       "      <th>1</th>\n",
       "      <td>51</td>\n",
       "      <td>1099</td>\n",
       "    </tr>\n",
       "    <tr>\n",
       "      <th>2</th>\n",
       "      <td>6117</td>\n",
       "      <td>356</td>\n",
       "    </tr>\n",
       "    <tr>\n",
       "      <th>3</th>\n",
       "      <td>6117</td>\n",
       "      <td>357</td>\n",
       "    </tr>\n",
       "    <tr>\n",
       "      <th>4</th>\n",
       "      <td>6117</td>\n",
       "      <td>1125</td>\n",
       "    </tr>\n",
       "  </tbody>\n",
       "</table>\n",
       "</div>"
      ],
      "text/plain": [
       "   user_id  resource_id\n",
       "0       51          516\n",
       "1       51         1099\n",
       "2     6117          356\n",
       "3     6117          357\n",
       "4     6117         1125"
      ]
     },
     "execution_count": 2,
     "metadata": {},
     "output_type": "execute_result"
    }
   ],
   "source": [
    "# Отсортируем таблицу по id пользователей и приобретенных ими курсов, \n",
    "# чтобы потом не получилось зеркальных пар курсов.\n",
    "df = df.sort_values(by=['user_id','resource_id'], ascending=[True, True], ignore_index=True)\n",
    "df.head()"
   ]
  },
  {
   "cell_type": "code",
   "execution_count": 3,
   "metadata": {},
   "outputs": [
    {
     "name": "stdout",
     "output_type": "stream",
     "text": [
      "<class 'pandas.core.frame.DataFrame'>\n",
      "RangeIndex: 34074 entries, 0 to 34073\n",
      "Data columns (total 2 columns):\n",
      " #   Column       Non-Null Count  Dtype\n",
      "---  ------       --------------  -----\n",
      " 0   user_id      34074 non-null  int64\n",
      " 1   resource_id  34074 non-null  int64\n",
      "dtypes: int64(2)\n",
      "memory usage: 532.5 KB\n"
     ]
    }
   ],
   "source": [
    "df.info()"
   ]
  },
  {
   "cell_type": "markdown",
   "metadata": {},
   "source": [
    "# Задача 2. Обработка данных средствами Python\n",
    "\n",
    "Теперь найдем самые популярные пары курсов. Сделать это придется в несколько этапов."
   ]
  },
  {
   "cell_type": "code",
   "execution_count": 22,
   "metadata": {},
   "outputs": [],
   "source": [
    "# Представим полученный выше датафрейм в виде списка кортежей, состоящих из двух элементов.\n",
    "# Первый элемент - id пользователя, второй элемент - id курса.\n",
    "df_list = []\n",
    "for i in range(len(df)):\n",
    "    df_list.append((df.iloc[i,0],df.iloc[i,1]))\n",
    "    \n",
    "# Создадим defaultdict, в котором ключами будут id пользователей, а \n",
    "# значениями - id приобретенных ими курсов.\n",
    "from pprint import pprint\n",
    "from collections import defaultdict\n",
    "purchases = defaultdict(list)\n",
    "\n",
    "for user, course in df_list:\n",
    "    purchases[user].append(course)"
   ]
  },
  {
   "cell_type": "code",
   "execution_count": 5,
   "metadata": {},
   "outputs": [
    {
     "data": {
      "text/plain": [
       "12656"
      ]
     },
     "execution_count": 5,
     "metadata": {},
     "output_type": "execute_result"
    }
   ],
   "source": [
    "# Убедимся, что длина defaultdict совпадает с количеством\n",
    "# пользователей, купивших более одного курса.\n",
    "len(purchases)"
   ]
  },
  {
   "cell_type": "code",
   "execution_count": 23,
   "metadata": {},
   "outputs": [],
   "source": [
    "# Разобъем каждый набор курсов по парам со всеми возможными комбинациями.\n",
    "from itertools import combinations\n",
    "course_pairs_list = []\n",
    "for course_pack in purchases.values():\n",
    "    for pair_id in combinations(course_pack,2):\n",
    "        course_pairs_list.append(pair_id)\n",
    "        \n",
    "from collections import Counter\n",
    "pairs_counter = Counter(course_pairs_list).most_common()"
   ]
  },
  {
   "cell_type": "code",
   "execution_count": 7,
   "metadata": {},
   "outputs": [
    {
     "data": {
      "text/plain": [
       "3989"
      ]
     },
     "execution_count": 7,
     "metadata": {},
     "output_type": "execute_result"
    }
   ],
   "source": [
    "# Узнаем, сколько всего получилось пар курсов.\n",
    "len(pairs_counter)"
   ]
  },
  {
   "cell_type": "markdown",
   "metadata": {},
   "source": [
    "Вывод: \n",
    "\n",
    "Всего получилось 3989 пар курсов. Самая популярная пара (551, 566) встречается 797 раз.\n",
    "\n",
    "# Задача 3. Составить итоговую таблицу с рекомендациями\n",
    "\n",
    "Итоговая таблица должна состоять из трёх столбцов:\n",
    "\n",
    "1. Курс, к которому идёт рекомендация.\n",
    "2. Курс для рекомендации № 1 (самый популярный).\n",
    "3. Курс для рекомендации № 2 (второй по популярности)."
   ]
  },
  {
   "cell_type": "code",
   "execution_count": 8,
   "metadata": {},
   "outputs": [
    {
     "data": {
      "text/html": [
       "<div>\n",
       "<style scoped>\n",
       "    .dataframe tbody tr th:only-of-type {\n",
       "        vertical-align: middle;\n",
       "    }\n",
       "\n",
       "    .dataframe tbody tr th {\n",
       "        vertical-align: top;\n",
       "    }\n",
       "\n",
       "    .dataframe thead th {\n",
       "        text-align: right;\n",
       "    }\n",
       "</style>\n",
       "<table border=\"1\" class=\"dataframe\">\n",
       "  <thead>\n",
       "    <tr style=\"text-align: right;\">\n",
       "      <th></th>\n",
       "      <th>course_pairs</th>\n",
       "      <th>frequency</th>\n",
       "    </tr>\n",
       "  </thead>\n",
       "  <tbody>\n",
       "    <tr>\n",
       "      <th>0</th>\n",
       "      <td>(551, 566)</td>\n",
       "      <td>797</td>\n",
       "    </tr>\n",
       "    <tr>\n",
       "      <th>1</th>\n",
       "      <td>(515, 551)</td>\n",
       "      <td>417</td>\n",
       "    </tr>\n",
       "    <tr>\n",
       "      <th>2</th>\n",
       "      <td>(489, 551)</td>\n",
       "      <td>311</td>\n",
       "    </tr>\n",
       "    <tr>\n",
       "      <th>3</th>\n",
       "      <td>(523, 551)</td>\n",
       "      <td>304</td>\n",
       "    </tr>\n",
       "    <tr>\n",
       "      <th>4</th>\n",
       "      <td>(566, 794)</td>\n",
       "      <td>290</td>\n",
       "    </tr>\n",
       "    <tr>\n",
       "      <th>...</th>\n",
       "      <td>...</td>\n",
       "      <td>...</td>\n",
       "    </tr>\n",
       "    <tr>\n",
       "      <th>95</th>\n",
       "      <td>(515, 794)</td>\n",
       "      <td>66</td>\n",
       "    </tr>\n",
       "    <tr>\n",
       "      <th>96</th>\n",
       "      <td>(504, 566)</td>\n",
       "      <td>66</td>\n",
       "    </tr>\n",
       "    <tr>\n",
       "      <th>97</th>\n",
       "      <td>(840, 1161)</td>\n",
       "      <td>65</td>\n",
       "    </tr>\n",
       "    <tr>\n",
       "      <th>98</th>\n",
       "      <td>(489, 809)</td>\n",
       "      <td>65</td>\n",
       "    </tr>\n",
       "    <tr>\n",
       "      <th>99</th>\n",
       "      <td>(490, 743)</td>\n",
       "      <td>65</td>\n",
       "    </tr>\n",
       "  </tbody>\n",
       "</table>\n",
       "<p>100 rows × 2 columns</p>\n",
       "</div>"
      ],
      "text/plain": [
       "   course_pairs  frequency\n",
       "0    (551, 566)        797\n",
       "1    (515, 551)        417\n",
       "2    (489, 551)        311\n",
       "3    (523, 551)        304\n",
       "4    (566, 794)        290\n",
       "..          ...        ...\n",
       "95   (515, 794)         66\n",
       "96   (504, 566)         66\n",
       "97  (840, 1161)         65\n",
       "98   (489, 809)         65\n",
       "99   (490, 743)         65\n",
       "\n",
       "[100 rows x 2 columns]"
      ]
     },
     "execution_count": 8,
     "metadata": {},
     "output_type": "execute_result"
    }
   ],
   "source": [
    "# Сначала преобразуем полученный ранее счетчик в датафрейм.\n",
    "course_pairs_df = pd.DataFrame(pairs_counter)\n",
    "course_pairs_df.columns = ['course_pairs','frequency']\n",
    "course_pairs_df.head(100)"
   ]
  },
  {
   "cell_type": "markdown",
   "metadata": {},
   "source": [
    "Теперь нужно определить минимальную границу - насколько часто должна встречаться пара курсов, чтобы ее можно было использовать в рекомендательной системе."
   ]
  },
  {
   "cell_type": "code",
   "execution_count": 9,
   "metadata": {},
   "outputs": [
    {
     "data": {
      "text/plain": [
       "count    3989.000000\n",
       "mean       10.031838\n",
       "std        26.355998\n",
       "min         1.000000\n",
       "25%         1.000000\n",
       "50%         3.000000\n",
       "75%         9.000000\n",
       "max       797.000000\n",
       "Name: frequency, dtype: float64"
      ]
     },
     "execution_count": 9,
     "metadata": {},
     "output_type": "execute_result"
    }
   ],
   "source": [
    "# Проанализируем значения столбца frequency, в котором указано, \n",
    "# как часто встречались пары курсов.\n",
    "course_pairs_df['frequency'].describe()"
   ]
  },
  {
   "cell_type": "code",
   "execution_count": 10,
   "metadata": {},
   "outputs": [
    {
     "name": "stdout",
     "output_type": "stream",
     "text": [
      "11.0\n",
      "22.0\n"
     ]
    }
   ],
   "source": [
    "print(course_pairs_df['frequency'].quantile(0.8))\n",
    "print(course_pairs_df['frequency'].quantile(0.9))"
   ]
  },
  {
   "cell_type": "markdown",
   "metadata": {},
   "source": [
    "Ранее мы узнали, что всего у нас встречаются 3989 разных пар курсов, а самую популярную пару покупали 797 раз. Теперь описательная статистика показала, что в среднем одну пару курсов покупают около 10 раз. Однако большинство пар курсов встречались слишком редко. Так, 25% пар покупали только один раз, половину пар - не более 3 раз, а 75% пар - не более 9 раз. Также я посчитал 80-й и 90-й процентили. Оказалось, что 80% пар курсов покупали не более 11 раз, а 90% пар - не более 22 раз. Таким образом, в ТОП-10% самых популярных пар находятся те, которые встретились более 22 раз.\n",
    "\n",
    "Ниже изображена частота покупок пар курсов на графике. Поскольку пар курсов слишком много (3989) и они расположены в порядке убывания частотности, вместо столбчатой диаграммы я построил линейную.\n",
    "\n",
    "Кроме того, нужно учитывать, что всего у нас 127 различных курсов. Некоторые курсы могут часто попадать в ТОП самых популярных пар. Если слишком ужесточить критерий отбора, есть риск, что часто рекомендательная система будет предлагать пользователям дополнительно приобрести не те курсы, которые встречались в реальных парах, а просто популярные курсы, даже если они не отвечают интересам пользователя.\n",
    "\n",
    "Сначала я хотел установить минимальную границу на уровне 22 раз (90-й процентиль). Однако в этом случае даже первую рекомендацию удалось подобрать только для 84 курсов, а вторую - для 71. На мой взгляд, это слишком мало, так как примерно треть курсов не имели бы хотя бы одной \"реальной\" рекомендации. Поэтому затем я проверил минимальную границу на уровне 11 раз (80-й процентиль). В этом случае первую рекомендацию удалось подобрать для 101 курса, а вторую - только для 93. Такой критерий мне тоже показался слишком строгим. Постепенно снижая строгость критерия, я решил остановиться на медиане. Так удалось подобрать первую рекомендацию для 115 курсов, а вторую - для 113. Соответственно, ***для рекомендательной системы будем брать пары, которые встречались чаще 3 раз***. В конце концов, снижение минимальной границы не влияет на рекомендации для наиболее популярных курсов, зато может повысить точность рекомендаций и, соответственно, дополнительные продажи при выборе пользователем малополулярных курсов. "
   ]
  },
  {
   "cell_type": "code",
   "execution_count": 11,
   "metadata": {},
   "outputs": [
    {
     "data": {
      "image/png": "[encoded data removed]",
      "text/plain": [
       "<Figure size 864x288 with 1 Axes>"
      ]
     },
     "metadata": {
      "needs_background": "light"
     },
     "output_type": "display_data"
    }
   ],
   "source": [
    "# Поскольку пар курсов слишком много (3989), вместо столбчатой диаграммы построим линейную.\n",
    "course_pairs_df.plot(\n",
    "    kind='line',\n",
    "    y='frequency',\n",
    "    grid=True,\n",
    "    xticks=range(0,4000,100),\n",
    "    rot=90,\n",
    "    title='Частота покупок пар курсов',\n",
    "    xlabel='Позиция пары курсов в рейтинге',\n",
    "    ylabel='Частота',\n",
    "    figsize=(12, 4)\n",
    ");"
   ]
  },
  {
   "cell_type": "code",
   "execution_count": 12,
   "metadata": {},
   "outputs": [
    {
     "name": "stdout",
     "output_type": "stream",
     "text": [
      "3.0\n"
     ]
    }
   ],
   "source": [
    "min_limit = course_pairs_df['frequency'].quantile(0.5)\n",
    "print(min_limit)"
   ]
  },
  {
   "cell_type": "markdown",
   "metadata": {},
   "source": [
    "Теперь приступим к созданию итоговой таблицы."
   ]
  },
  {
   "cell_type": "code",
   "execution_count": 13,
   "metadata": {},
   "outputs": [
    {
     "data": {
      "text/plain": [
       "126"
      ]
     },
     "execution_count": 13,
     "metadata": {},
     "output_type": "execute_result"
    }
   ],
   "source": [
    "# Сначала создадим список с id курсов.\n",
    "courses_list = []\n",
    "for course in df['resource_id']:\n",
    "    if course not in courses_list:\n",
    "        courses_list.append(course)\n",
    "        \n",
    "courses_list = sorted(courses_list)\n",
    "\n",
    "len(courses_list)"
   ]
  },
  {
   "cell_type": "markdown",
   "metadata": {},
   "source": [
    "В списке 126 элементов, потому что именно такое количество курсов было приобретено.\n",
    "\n",
    "Теперь напишем функцию, которая будет для каждого из этих курсов искать по две наиболее подходящие рекомендации."
   ]
  },
  {
   "cell_type": "code",
   "execution_count": 14,
   "metadata": {},
   "outputs": [],
   "source": [
    "# Сначала для удобства превратим созданный ранее счетчик в словарь.\n",
    "pairs_frequency_dict = dict(pairs_counter)\n",
    "\n",
    "# Функция будет выглядеть следующим образом.\n",
    "def recommend_course(main_course_id):\n",
    "    recommendations_list = []\n",
    "    for pair in pairs_frequency_dict.keys():\n",
    "        # Если id курса встречается в паре на первом месте и частотность выше минимальной границы, \n",
    "        # добавляем пару курсов в список рекомендаций.\n",
    "        if (pair[0] == main_course_id) and (pairs_frequency_dict[pair] > min_limit):\n",
    "            recommendations_list.append((pair, pairs_frequency_dict[pair]))\n",
    "        # Если id курса встречается в паре на втором месте и частотность выше минимальной границы, \n",
    "        # добавляем пару курсов в список рекомендаций.\n",
    "        elif (pair[1] == main_course_id) and (pairs_frequency_dict[pair] > min_limit):\n",
    "            recommendations_list.append((pair, pairs_frequency_dict[pair]))\n",
    "        # Отсортируем полученный список по частотности пар\n",
    "        recommedations_list = sorted(recommendations_list, key=lambda x: x[1], reverse=True)\n",
    "    # Вернем только две пары наиболее подходящие пары. \n",
    "    return recommendations_list[:2]"
   ]
  },
  {
   "cell_type": "code",
   "execution_count": 15,
   "metadata": {},
   "outputs": [
    {
     "name": "stdout",
     "output_type": "stream",
     "text": [
      "[[((356, 571), 103), ((356, 357), 100)], [((357, 571), 112), ((356, 357), 100)], [((358, 570), 25), ((358, 752), 19)], [((359, 570), 16), ((358, 359), 15)], [((360, 745), 17), ((360, 516), 12)], [((361, 551), 49), ((361, 1138), 40)], [((362, 363), 18), ((362, 562), 8)], [((363, 511), 99), ((363, 562), 77)], [((364, 551), 6), ((364, 503), 5)], [((365, 551), 4)], [((366, 551), 63), ((366, 515), 45)], [((367, 551), 46), ((367, 515), 38)], [((368, 572), 29), ((368, 569), 27)], [((489, 551), 311), ((489, 515), 286)], [((490, 566), 253), ((490, 551), 247)], [((502, 551), 135), ((502, 566), 120)], [((503, 551), 60), ((503, 513), 55)], [((504, 572), 184), ((504, 569), 139)], [((507, 570), 172), ((507, 752), 150)], [((507, 508), 61), ((508, 570), 54)], [((509, 745), 59), ((509, 553), 48)], [((363, 511), 99), ((511, 562), 55)], [((503, 513), 55), ((513, 551), 38)], [((514, 551), 200), ((514, 515), 139)], [((515, 551), 417), ((489, 515), 286)], [((516, 745), 199), ((516, 553), 107)], [((517, 551), 52), ((517, 750), 34)], [((518, 551), 39), ((490, 518), 35)], [((519, 551), 86), ((519, 523), 72)], [((523, 551), 304), ((515, 523), 213)], [((551, 566), 797), ((515, 551), 417)], [((551, 552), 177), ((523, 552), 144)], [((553, 745), 212), ((516, 553), 107)], [((363, 562), 77), ((511, 562), 55)], [((562, 563), 53), ((363, 563), 33)], [((523, 564), 110), ((551, 564), 103)], [((551, 566), 797), ((566, 794), 290)], [((568, 745), 102), ((553, 568), 83)], [((569, 572), 216), ((569, 840), 204)], [((570, 752), 247), ((507, 570), 172)], [((571, 1125), 122), ((357, 571), 112)], [((569, 572), 216), ((504, 572), 184)], [((551, 659), 50), ((659, 750), 22)], [((551, 664), 56), ((503, 664), 40)], [((490, 670), 16), ((566, 670), 15)], [((659, 671), 18), ((671, 750), 11)], [((551, 672), 36), ((672, 745), 25)], [((551, 679), 104), ((489, 679), 77)], [((551, 741), 51), ((566, 741), 40)], [((742, 1141), 34), ((503, 742), 22)], [((490, 743), 65), ((743, 757), 27)], [((551, 744), 16), ((566, 744), 16)], [((553, 745), 212), ((516, 745), 199)], [((551, 749), 109), ((515, 749), 103)], [((551, 750), 64), ((566, 750), 55)], [((570, 752), 247), ((507, 752), 150)], [((750, 753), 42), ((551, 753), 28)], [((570, 755), 33), ((752, 755), 22)], [((566, 756), 32), ((551, 756), 32)], [((566, 757), 48), ((551, 757), 34)], [((566, 764), 92), ((551, 764), 91)], [((571, 765), 83), ((765, 1125), 42)], [((551, 776), 51), ((566, 776), 29)], [((551, 777), 107), ((515, 777), 45)], [((551, 791), 34), ((664, 791), 25)], [((566, 794), 290), ((551, 794), 95)], [((571, 800), 8), ((800, 1125), 4)], [((571, 803), 7), ((523, 803), 6)], [((490, 809), 163), ((570, 809), 119)], [((551, 810), 13), ((566, 810), 10)], [((672, 813), 18), ((361, 813), 7)], [((564, 814), 25), ((551, 814), 23)], [((551, 829), 34), ((552, 829), 30)], [], [], [], [((745, 835), 7), ((509, 835), 5)], [], [((569, 837), 6), ((837, 840), 5)], [((569, 840), 204), ((572, 840), 178)], [((551, 862), 8), ((552, 862), 6)], [((863, 908), 10), ((863, 1100), 8)], [((551, 864), 10), ((523, 864), 8)], [((829, 865), 7), ((865, 1103), 6)], [], [], [((907, 1103), 19), ((523, 907), 15)], [((908, 1100), 36), ((809, 908), 32)], [((523, 909), 24), ((566, 909), 19)], [], [((571, 912), 74), ((912, 1125), 55)], [((745, 1099), 53), ((568, 1099), 53)], [((551, 1100), 39), ((908, 1100), 36)], [((1100, 1101), 23), ((552, 1101), 14)], [((1100, 1102), 36), ((1102, 1103), 20)], [((551, 1103), 76), ((566, 1103), 62)], [((752, 1104), 22), ((809, 1104), 18)], [((570, 1115), 73), ((752, 1115), 69)], [((564, 1116), 18), ((809, 1116), 16)], [((1124, 1128), 13), ((908, 1124), 9)], [((571, 1125), 122), ((912, 1125), 55)], [((1124, 1128), 13), ((523, 1128), 10)], [((1100, 1129), 10), ((566, 1129), 9)], [((361, 1138), 40), ((672, 1138), 21)], [((745, 1139), 67), ((553, 1139), 27)], [((503, 1140), 40), ((664, 1140), 22)], [((513, 1141), 34), ((742, 1141), 34)], [((571, 1144), 27), ((1125, 1144), 22)], [((840, 1145), 29), ((569, 1145), 18)], [((745, 1146), 17), ((1139, 1146), 9)], [((745, 1147), 26), ((553, 1147), 16)], [((551, 1152), 26), ((490, 1152), 25)], [((566, 1156), 8), ((551, 1156), 8)], [((562, 1160), 5), ((563, 1160), 4)], [((840, 1161), 65), ((569, 1161), 44)], [((752, 1181), 20), ((570, 1181), 12)], [], [((752, 1184), 27), ((507, 1184), 26)], [((1140, 1185), 18), ((503, 1185), 18)], [((1125, 1186), 27), ((571, 1186), 18)], [((745, 1187), 32), ((553, 1187), 27)], [((1141, 1188), 15), ((513, 1188), 11)], [((571, 1198), 5)], [], [], []]\n"
     ]
    }
   ],
   "source": [
    "# Теперь применим эту функцию к списку курсов.\n",
    "all_recommendations = []\n",
    "for main_course in courses_list:\n",
    "    recommendations = recommend_course(main_course)\n",
    "    all_recommendations.append(recommendations)\n",
    "\n",
    "print(all_recommendations)"
   ]
  },
  {
   "cell_type": "markdown",
   "metadata": {},
   "source": [
    "Наконец, приступим к созданию самой итоговой таблицы."
   ]
  },
  {
   "cell_type": "code",
   "execution_count": 16,
   "metadata": {},
   "outputs": [
    {
     "data": {
      "text/html": [
       "<div>\n",
       "<style scoped>\n",
       "    .dataframe tbody tr th:only-of-type {\n",
       "        vertical-align: middle;\n",
       "    }\n",
       "\n",
       "    .dataframe tbody tr th {\n",
       "        vertical-align: top;\n",
       "    }\n",
       "\n",
       "    .dataframe thead th {\n",
       "        text-align: right;\n",
       "    }\n",
       "</style>\n",
       "<table border=\"1\" class=\"dataframe\">\n",
       "  <thead>\n",
       "    <tr style=\"text-align: right;\">\n",
       "      <th></th>\n",
       "      <th>main_course</th>\n",
       "      <th>recommendation_1</th>\n",
       "      <th>recommendation_2</th>\n",
       "    </tr>\n",
       "  </thead>\n",
       "  <tbody>\n",
       "    <tr>\n",
       "      <th>0</th>\n",
       "      <td>356.0</td>\n",
       "      <td>571.0</td>\n",
       "      <td>357.0</td>\n",
       "    </tr>\n",
       "    <tr>\n",
       "      <th>1</th>\n",
       "      <td>357.0</td>\n",
       "      <td>571.0</td>\n",
       "      <td>356.0</td>\n",
       "    </tr>\n",
       "    <tr>\n",
       "      <th>2</th>\n",
       "      <td>358.0</td>\n",
       "      <td>570.0</td>\n",
       "      <td>752.0</td>\n",
       "    </tr>\n",
       "    <tr>\n",
       "      <th>3</th>\n",
       "      <td>359.0</td>\n",
       "      <td>570.0</td>\n",
       "      <td>358.0</td>\n",
       "    </tr>\n",
       "    <tr>\n",
       "      <th>4</th>\n",
       "      <td>360.0</td>\n",
       "      <td>745.0</td>\n",
       "      <td>516.0</td>\n",
       "    </tr>\n",
       "  </tbody>\n",
       "</table>\n",
       "</div>"
      ],
      "text/plain": [
       "   main_course  recommendation_1  recommendation_2\n",
       "0        356.0             571.0             357.0\n",
       "1        357.0             571.0             356.0\n",
       "2        358.0             570.0             752.0\n",
       "3        359.0             570.0             358.0\n",
       "4        360.0             745.0             516.0"
      ]
     },
     "execution_count": 16,
     "metadata": {},
     "output_type": "execute_result"
    }
   ],
   "source": [
    "recommendations_df = pd.DataFrame(columns=['main_course', 'recommendation_1','recommendation_2'])\n",
    "\n",
    "# C помощью цикла заполним значения столбцов.\n",
    "for i in range(len(courses_list)):\n",
    "    # Если к курсу удалось подобрать две рекомендации, сделаем это следующим образом.\n",
    "    if len(all_recommendations[i]) == 2:\n",
    "        # Если основной курс в обеих рекомендуемых парах был на первом месте, добавим курсы со вторых мест.\n",
    "        if (courses_list[i] == all_recommendations[i][0][0][0]) and (courses_list[i] == all_recommendations[i][1][0][0]):\n",
    "            recommendations_df.loc[i] = [courses_list[i], all_recommendations[i][0][0][1], all_recommendations[i][1][0][1]]\n",
    "        # Если основной курс в первой паре был на первом месте, а во второй - на втором, добавим второй и первый курс, соответсвенно.\n",
    "        elif (courses_list[i] == all_recommendations[i][0][0][0]) and (courses_list[i] == all_recommendations[i][1][0][1]):\n",
    "            recommendations_df.loc[i] = [courses_list[i], all_recommendations[i][0][0][1], all_recommendations[i][1][0][0]]\n",
    "        # Если основной курс в первой паре был на втором месте, а во второй - на первом, добавим первый и второй курс, соответсвенно.\n",
    "        elif (courses_list[i] == all_recommendations[i][0][0][1]) and (courses_list[i] == all_recommendations[i][1][0][0]):\n",
    "            recommendations_df.loc[i] = [courses_list[i], all_recommendations[i][0][0][0], all_recommendations[i][1][0][1]]\n",
    "        # Если основной курс в обеих рекомендуемых парах был на втором месте, добавим пары с первых мест.\n",
    "        elif (courses_list[i] == all_recommendations[i][0][0][1]) and (courses_list[i] == all_recommendations[i][1][0][1]):\n",
    "            recommendations_df.loc[i] = [courses_list[i], all_recommendations[i][0][0][0], all_recommendations[i][1][0][0]]\n",
    "    # Если к курсу удалось только одну рекомендацию, сделаем это следующим образом.\n",
    "    elif len(all_recommendations[i]) == 1:\n",
    "        # Если основной курс в рекомендуемой паре был на первом месте, добавим курс со второго места и пустое значение.\n",
    "        if (courses_list[i] == all_recommendations[i][0][0][0]):\n",
    "            recommendations_df.loc[i] = [courses_list[i], all_recommendations[i][0][0][1], np.nan]\n",
    "        # Если основной курс в рекомендуемой паре был на втором месте, добавим курс с первого места и пустое значение.\n",
    "        if (courses_list[i] == all_recommendations[i][0][0][1]):\n",
    "            recommendations_df.loc[i] = [courses_list[i], all_recommendations[i][0][0][0], np.nan]\n",
    "    # Если к курсу не удалось подобрать рекомендации, добавим пустые значения.\n",
    "    else:\n",
    "        recommendations_df.loc[i] = [courses_list[i], np.nan, np.nan]\n",
    "\n",
    "recommendations_df.head()"
   ]
  },
  {
   "cell_type": "code",
   "execution_count": 17,
   "metadata": {},
   "outputs": [
    {
     "name": "stdout",
     "output_type": "stream",
     "text": [
      "<class 'pandas.core.frame.DataFrame'>\n",
      "Int64Index: 126 entries, 0 to 125\n",
      "Data columns (total 3 columns):\n",
      " #   Column            Non-Null Count  Dtype  \n",
      "---  ------            --------------  -----  \n",
      " 0   main_course       126 non-null    float64\n",
      " 1   recommendation_1  115 non-null    float64\n",
      " 2   recommendation_2  113 non-null    float64\n",
      "dtypes: float64(3)\n",
      "memory usage: 3.9 KB\n"
     ]
    }
   ],
   "source": [
    "recommendations_df.info()"
   ]
  },
  {
   "cell_type": "markdown",
   "metadata": {},
   "source": [
    "Теперь необходимо решить, чем заполнять пустые значения в датафрейме.\n",
    "\n",
    "Я предлагаю заполнять их самым популярным курсом, если отсутствует одна рекомендация, и двумя самыми популярными курсами, если отсутствуют обе рекомендации.\n",
    "\n",
    "Найдем два самых популярных курса с помощью SQL-запроса. Выгрузим id этих курсов и количество их продаж."
   ]
  },
  {
   "cell_type": "code",
   "execution_count": 18,
   "metadata": {},
   "outputs": [
    {
     "data": {
      "text/html": [
       "<div>\n",
       "<style scoped>\n",
       "    .dataframe tbody tr th:only-of-type {\n",
       "        vertical-align: middle;\n",
       "    }\n",
       "\n",
       "    .dataframe tbody tr th {\n",
       "        vertical-align: top;\n",
       "    }\n",
       "\n",
       "    .dataframe thead th {\n",
       "        text-align: right;\n",
       "    }\n",
       "</style>\n",
       "<table border=\"1\" class=\"dataframe\">\n",
       "  <thead>\n",
       "    <tr style=\"text-align: right;\">\n",
       "      <th></th>\n",
       "      <th>resource_id</th>\n",
       "      <th>sales_count</th>\n",
       "    </tr>\n",
       "  </thead>\n",
       "  <tbody>\n",
       "    <tr>\n",
       "      <th>0</th>\n",
       "      <td>551</td>\n",
       "      <td>9570</td>\n",
       "    </tr>\n",
       "    <tr>\n",
       "      <th>1</th>\n",
       "      <td>566</td>\n",
       "      <td>6222</td>\n",
       "    </tr>\n",
       "  </tbody>\n",
       "</table>\n",
       "</div>"
      ],
      "text/plain": [
       "   resource_id  sales_count\n",
       "0          551         9570\n",
       "1          566         6222"
      ]
     },
     "metadata": {},
     "output_type": "display_data"
    }
   ],
   "source": [
    "def getData2():\n",
    "    query = \"WITH course_purchases AS (\\\n",
    "        SELECT ci.id,c.user_id, ci.cart_id, ci.created_at, ci.resource_id, c.promo_code_id, c.purchased_at, c.updated_at\\\n",
    "        FROM final.carts c\\\n",
    "            JOIN final.cart_items ci ON c.id = ci.cart_id\\\n",
    "        WHERE c.state = 'successful' AND ci.resource_type = 'Course'\\\n",
    "        )\\\n",
    "        SELECT resource_id, Count(id) sales_count\\\n",
    "        FROM course_purchases\\\n",
    "        GROUP BY 1\\\n",
    "        ORDER BY 2 DESC\\\n",
    "        LIMIT 2\".format()\n",
    "    conn = psycopg2.connect(dbname='skillfactory',\n",
    "                            user='skillfactory',\n",
    "                            host='84.201.134.129',\n",
    "                            password='cCkxxLVrDE8EbvjueeMedPKt',\n",
    "                            port=5432)\n",
    "    dict_cur = conn.cursor(cursor_factory=psycopg2.extras.DictCursor)\n",
    "    dict_cur.execute(query)\n",
    "    rows = dict_cur.fetchall()\n",
    "    data = []\n",
    "    for row in rows:\n",
    "        data.append(dict(row))\n",
    "    dict_cur.close()\n",
    "    conn.close()\n",
    "    return data\n",
    "\n",
    "# Преобразуем результат запроса в датафрейм.\n",
    "top2_courses_df=pd.DataFrame(getData2())\n",
    "\n",
    "display(top2_courses_df)"
   ]
  },
  {
   "cell_type": "code",
   "execution_count": 19,
   "metadata": {},
   "outputs": [
    {
     "data": {
      "text/html": [
       "<div>\n",
       "<style scoped>\n",
       "    .dataframe tbody tr th:only-of-type {\n",
       "        vertical-align: middle;\n",
       "    }\n",
       "\n",
       "    .dataframe tbody tr th {\n",
       "        vertical-align: top;\n",
       "    }\n",
       "\n",
       "    .dataframe thead th {\n",
       "        text-align: right;\n",
       "    }\n",
       "</style>\n",
       "<table border=\"1\" class=\"dataframe\">\n",
       "  <thead>\n",
       "    <tr style=\"text-align: right;\">\n",
       "      <th></th>\n",
       "      <th>main_course</th>\n",
       "      <th>recommendation_1</th>\n",
       "      <th>recommendation_2</th>\n",
       "    </tr>\n",
       "  </thead>\n",
       "  <tbody>\n",
       "    <tr>\n",
       "      <th>0</th>\n",
       "      <td>356.0</td>\n",
       "      <td>571.0</td>\n",
       "      <td>357.0</td>\n",
       "    </tr>\n",
       "    <tr>\n",
       "      <th>1</th>\n",
       "      <td>357.0</td>\n",
       "      <td>571.0</td>\n",
       "      <td>356.0</td>\n",
       "    </tr>\n",
       "    <tr>\n",
       "      <th>2</th>\n",
       "      <td>358.0</td>\n",
       "      <td>570.0</td>\n",
       "      <td>752.0</td>\n",
       "    </tr>\n",
       "    <tr>\n",
       "      <th>3</th>\n",
       "      <td>359.0</td>\n",
       "      <td>570.0</td>\n",
       "      <td>358.0</td>\n",
       "    </tr>\n",
       "    <tr>\n",
       "      <th>4</th>\n",
       "      <td>360.0</td>\n",
       "      <td>745.0</td>\n",
       "      <td>516.0</td>\n",
       "    </tr>\n",
       "  </tbody>\n",
       "</table>\n",
       "</div>"
      ],
      "text/plain": [
       "   main_course  recommendation_1  recommendation_2\n",
       "0        356.0             571.0             357.0\n",
       "1        357.0             571.0             356.0\n",
       "2        358.0             570.0             752.0\n",
       "3        359.0             570.0             358.0\n",
       "4        360.0             745.0             516.0"
      ]
     },
     "execution_count": 19,
     "metadata": {},
     "output_type": "execute_result"
    }
   ],
   "source": [
    "# Теперь с помощью цикла заполним пустые значения в рекомендациях.\n",
    "for i in range(len(recommendations_df['main_course'])):\n",
    "    # Если отсутствуют обе рекомендации (т.е. даже первая), первым порекомендуем самый популярный курс, \n",
    "    # а вторым - второй по популярности.\n",
    "    if np.isnan(recommendations_df.loc[i][1]):\n",
    "        recommendations_df.loc[i][1] = top2_courses_df.loc[0][0]\n",
    "        recommendations_df.loc[i][2] = top2_courses_df.loc[0][1]\n",
    "    # Если отсутствует только вторая рекомендация, добавим id самого популярного курса.\n",
    "    elif np.isnan(recommendations_df.loc[i][2]):\n",
    "        recommendations_df.loc[i][2] = top2_courses_df.loc[0][0]\n",
    "    \n",
    "        \n",
    "recommendations_df.head()"
   ]
  },
  {
   "cell_type": "code",
   "execution_count": 20,
   "metadata": {},
   "outputs": [
    {
     "name": "stdout",
     "output_type": "stream",
     "text": [
      "<class 'pandas.core.frame.DataFrame'>\n",
      "Int64Index: 126 entries, 0 to 125\n",
      "Data columns (total 3 columns):\n",
      " #   Column            Non-Null Count  Dtype  \n",
      "---  ------            --------------  -----  \n",
      " 0   main_course       126 non-null    float64\n",
      " 1   recommendation_1  126 non-null    float64\n",
      " 2   recommendation_2  126 non-null    float64\n",
      "dtypes: float64(3)\n",
      "memory usage: 8.0 KB\n"
     ]
    }
   ],
   "source": [
    "recommendations_df.info()"
   ]
  },
  {
   "cell_type": "markdown",
   "metadata": {},
   "source": [
    "Все пропуски заполнены, основа для рекомендательной системы готова. \n",
    "\n",
    "Вкратце повторим метод создания таблицы:\n",
    "\n",
    "- мы нашли пользователей, которые купили более одного курса;\n",
    "- для каждого из этих пользователей создали список приобретенных курсов;\n",
    "- преобразовали эти списки во все возможные пары курсов и пересчитали их;\n",
    "- установили, как часто должна встречаться пара, чтобы ее можно было включить в рекомендательную систему;\n",
    "- для каждого из приобретенных курсов нашли две самые часто встречающиеся пары и включили их в рекомендательную систему;\n",
    "- если для курса не удалось подобрать одну рекомендацию, вместо нее будем рекомендовать самый популярный курс;\n",
    "- если для курса не удалось подобрать обе рекомендации, вместо них будем рекомендовать два самых популярных курса.\n",
    "\n",
    "Кроме того, у нас остался еще один курс, который ни разу не покупали. Поскольку рекомендаций к нему на основе историй покупок априори быть не может, вместе с ним тоже можно рекомендовать два самых популярных курса.\n",
    "\n",
    "# Задача 4. Проанализировать результаты A/B-теста, проведённого после внедрения фичи\n",
    "\n",
    "Все клиенты случайным образом делятся на контрольную и тестовую группы: тестовой группе показываются рекомендации, а контрольной — нет.\n",
    "\n",
    "До реализации рекомендаций средняя конверсия в покупку второго курса была 3,2%. Ожидается, что ввод рекомендаций сможет поднять её до 4%.\n",
    "\n",
    "Сначала необходимо определить минимальный размер выборки для проведения теста при уровне достоверности 95% и статистической мощности 80%. Он оказался равен 7866 пользователей для каждой из групп, но можно округлить результат до 7900.\n",
    "\n",
    "Спустя три недели каждый из вариантов A/B-теста достиг необходимого размера выборки, и теперь необходимо сделать вывод, можно ли считать реализацию рекомендательной системы успешной, и принять решение о полезности её внедрения.\n",
    "\n",
    "Численное выражение полученных результатов таково:\n",
    "\n",
    "1. В контрольной группе оказалось 8732 клиента, оформивших заказ, из них 293 купили больше одного курса (конверсия 3,36%).\n",
    "2. В тестовой — 8847 клиентов, из них 347 купили больше одного курса (конверсия 3,92%)."
   ]
  },
  {
   "cell_type": "code",
   "execution_count": 21,
   "metadata": {},
   "outputs": [
    {
     "data": {
      "image/jpeg": "[encoded data removed]",
      "text/plain": [
       "<IPython.core.display.Image object>"
      ]
     },
     "execution_count": 21,
     "metadata": {},
     "output_type": "execute_result"
    }
   ],
   "source": [
    "from IPython.display import Image\n",
    "Image('C:/Users/79057/OneDrive/Документы/SF/IDE/distribution.jpg')"
   ]
  },
  {
   "cell_type": "markdown",
   "metadata": {},
   "source": [
    "Распределение похоже на нормальное. Поэтому для проверки гипотезы о равенстве конверсий применим Z-тест.\n",
    "\n",
    "H-0: конверсии обеих групп равны;\n",
    "\n",
    "H-1: конверсия в тестовой группе выше.\n",
    "\n",
    "В результате, *p-value* оказалось равно 0,022. Это меньше, чем критический уровень статистической значимости (0,05). Значит мы можем отвергнуть нулевую гипотезу о равенстве конверсий в обеих группах.\n",
    "\n",
    "#### Вывод: вариант с рекомендациями показал статистически значимо лучший результат, нужно реализовывать его для всех клиентов."
   ]
  }
 ],
 "metadata": {
  "kernelspec": {
   "display_name": "Python 3.9.10 64-bit",
   "language": "python",
   "name": "python3"
  },
  "language_info": {
   "codemirror_mode": {
    "name": "ipython",
    "version": 3
   },
   "file_extension": ".py",
   "mimetype": "text/x-python",
   "name": "python",
   "nbconvert_exporter": "python",
   "pygments_lexer": "ipython3",
   "version": "3.9.10"
  },
  "orig_nbformat": 4,
  "vscode": {
   "interpreter": {
    "hash": "f544ea10d7c1fcbd80d1f5f5f03b3c8b55db4e56d7c22e2128ddade55e0e69ba"
   }
  }
 },
 "nbformat": 4,
 "nbformat_minor": 2
}
